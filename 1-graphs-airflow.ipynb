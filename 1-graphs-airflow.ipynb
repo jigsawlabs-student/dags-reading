{
 "cells": [
  {
   "cell_type": "markdown",
   "id": "olympic-wyoming",
   "metadata": {},
   "source": [
    "# Airflow DAGs  "
   ]
  },
  {
   "cell_type": "markdown",
   "id": "addressed-content",
   "metadata": {},
   "source": [
    "### Introduction"
   ]
  },
  {
   "cell_type": "markdown",
   "id": "touched-vertex",
   "metadata": {},
   "source": [
    "In the last lesson, we were briefly introduced to directed acyclic graphs -- that is, DAGs in airflow.  A DAG is how airflow conceptualizes a workflow - it's a series of tasks.  In this lesson, we'll see specifically what we mean by a DAG, and move through the steps of creating a DAG in airflow."
   ]
  },
  {
   "cell_type": "markdown",
   "id": "legendary-studio",
   "metadata": {},
   "source": [
    "### From Graphs to DAGs"
   ]
  },
  {
   "cell_type": "markdown",
   "id": "incident-consultancy",
   "metadata": {},
   "source": [
    "Before talking about directed acyclic graphs, let's discuss graphs more generally.  Take a look at the map below, that shows various airports, and flight routes between them."
   ]
  },
  {
   "cell_type": "markdown",
   "id": "widespread-sweden",
   "metadata": {},
   "source": [
    "<img src=\"./airports-graph.png\" width=\"40%\">"
   ]
  },
  {
   "cell_type": "markdown",
   "id": "occasional-classroom",
   "metadata": {},
   "source": [
    "We see various airports listed: Los Angelos, Phoenix, Chicago, Atlanta.  And the lines between them represent the connections from one to another.  This is an example of a graph."
   ]
  },
  {
   "cell_type": "markdown",
   "id": "worse-exposure",
   "metadata": {},
   "source": [
    "> A graph is a structure amounting to a set of **nodes** in which some pairs of the nodes are in some sense \"related\". [Derived from Wikipedia Graphs](https://en.wikipedia.org/wiki/Graph_(discrete_mathematics))"
   ]
  },
  {
   "cell_type": "markdown",
   "id": "included-congo",
   "metadata": {},
   "source": [
    "Ok, so above the airports are the nodes with the different routes being our connections.  In graph speak, we'll call each connection between a pair of nodes an **edges**.  \n",
    "\n",
    "\n",
    "Now when talking about our graph above, we would say that the graph is **cyclic**.  This is because when we visit a node like Los Angelos, and go to connected node of Chicago, there is a path back to the Los Angelos node -- we can simply turn around go back to Los Angelos.\n",
    "\n",
    "> **Cycle** With graphs, a cycle exists if there is a path to revisit one of the vertices."
   ]
  },
  {
   "cell_type": "markdown",
   "id": "twenty-fellow",
   "metadata": {},
   "source": [
    "Now let's see a different graph."
   ]
  },
  {
   "cell_type": "markdown",
   "id": "terminal-adoption",
   "metadata": {},
   "source": [
    "> <img src=\"./red-blue-paint.png\" width=\"60%\">"
   ]
  },
  {
   "cell_type": "markdown",
   "id": "neural-vector",
   "metadata": {},
   "source": [
    "Note that unlike our airport graph, this time, once we visit a node, there is no going back.  This is indicated by the arrows: there is a path from getting red paint to mixing the paint, but we cannot go from the paint mixing step back to the red paint.\n",
    "\n",
    "Because our edges have a specified direction, and because once we visit a node, we cannot revisit that same node -- we call this graph a **directed acyclic graph**.\n",
    "\n",
    "> A directed acyclic graph is a graph where each of the edges have a direction and none of the nodes can be repeated.\n",
    "\n",
    "This is another example of a directed acyclic graph:"
   ]
  },
  {
   "cell_type": "markdown",
   "id": "vulnerable-mainstream",
   "metadata": {},
   "source": [
    "> <img src=\"./dag-etl.png\" width=\"60%\">"
   ]
  },
  {
   "cell_type": "markdown",
   "id": "tropical-password",
   "metadata": {},
   "source": [
    "So once again, each of the edges has a direction, and there exists no cycle between our nodes.  Now that we understand what DAG is conceptually it perhaps makes sense, that this is the structure airflow chooses to describe a workflow.  \n",
    "\n",
    "With a workflow, our steps have an order to them, and we do not want our graph to cycle through nodes endlessly.  \n",
    "\n",
    "Ok, now let's create a DAG in airflow."
   ]
  },
  {
   "cell_type": "markdown",
   "id": "starting-candle",
   "metadata": {},
   "source": [
    "### Creating a DAG"
   ]
  },
  {
   "cell_type": "markdown",
   "id": "liquid-aerospace",
   "metadata": {},
   "source": [
    "To create a DAG in airflow, we to create an instance of a DAG and then one or more tasks that we associate with the DAG.  Let's get to it."
   ]
  },
  {
   "cell_type": "markdown",
   "id": "typical-subsection",
   "metadata": {},
   "source": [
    "First we'll create our dag."
   ]
  },
  {
   "cell_type": "markdown",
   "id": "clinical-incentive",
   "metadata": {},
   "source": [
    "```python\n",
    "from airflow import DAG\n",
    "from datetime import datetime, timedelta\n",
    "\n",
    "greeting_dag = DAG(dag_id = 'hello_world', start_date=datetime.now() - timedelta(days = 1))\n",
    "```"
   ]
  },
  {
   "cell_type": "markdown",
   "id": "velvet-button",
   "metadata": {},
   "source": [
    "To create a dag, we must specify a `dag_id`.  The `dag_id` cannot have any spaces in it.  We also specify a `start_date`, when the dag should first be run.  \n",
    "\n",
    "> We want our `start_date` to be in the past, because for a dag to run the start date must be in a time in the past.  We'll talk more about this later."
   ]
  },
  {
   "cell_type": "markdown",
   "id": "single-delhi",
   "metadata": {},
   "source": [
    "Ok, now the DAG is an entire workflow.  But our DAG does not do anything unless it has some tasks.  Below we'll create a task to execute some Python, and then we'll associate it with our DAG."
   ]
  },
  {
   "cell_type": "markdown",
   "id": "bizarre-norman",
   "metadata": {},
   "source": [
    "```python\n",
    "from airflow.operators.python_operator import PythonOperator\n",
    "\n",
    "def hello():\n",
    "    return 'Hello world!'\n",
    "\n",
    "hello_task = PythonOperator(task_id='hello_task', \n",
    "                            python_callable=hello,\n",
    "                            dag=greeting_dag)\n",
    "```"
   ]
  },
  {
   "cell_type": "markdown",
   "id": "presidential-collective",
   "metadata": {},
   "source": [
    "So focusing on the last statement where we call our `PythonOperator` notice that just like our DAG, the first argument step is to provide an id, this time a `task_id`.  Then with `python_callable`, we specify what this task does, which is execute the `hello` function.  And finally we associate this task with our `dag` from earlier.   \n",
    "\n",
    "> So we can say that a task belongs to a dag, and a dag has many tasks. "
   ]
  },
  {
   "cell_type": "markdown",
   "id": "enabling-centre",
   "metadata": {},
   "source": [
    "* Operators"
   ]
  },
  {
   "cell_type": "markdown",
   "id": "tested-implement",
   "metadata": {},
   "source": [
    "One thing that may be confusing about the above code is that we seem to be working with operators to create a task."
   ]
  },
  {
   "cell_type": "markdown",
   "id": "traditional-conditioning",
   "metadata": {},
   "source": [
    "```python\n",
    "from airflow.operators.python_operator import PythonOperator\n",
    "hello_task = PythonOperator(task_id='hello_task', \n",
    "                            python_callable=hello,\n",
    "                            dag=greeting_dag)\n",
    "```"
   ]
  },
  {
   "cell_type": "markdown",
   "id": "transsexual-sympathy",
   "metadata": {},
   "source": [
    "What's an operator?"
   ]
  },
  {
   "cell_type": "markdown",
   "id": "fancy-japanese",
   "metadata": {},
   "source": [
    "> Operators allow for generation of certain types of tasks that become nodes in the DAG when instantiated. [Airflow Documentation](https://airflow.apache.org/docs/apache-airflow/stable/python-api-ref.html)"
   ]
  },
  {
   "cell_type": "markdown",
   "id": "sticky-brass",
   "metadata": {},
   "source": [
    "So the Operator is the class, and an instance of an operator is a task.  These tasks are the nodes in our DAG.  And note that Airflow comes out of the box with different kinds of operators that allows for the creation of different kinds of tasks."
   ]
  },
  {
   "cell_type": "markdown",
   "id": "aging-genetics",
   "metadata": {},
   "source": [
    "For example, here are just some of the operators available to us."
   ]
  },
  {
   "cell_type": "markdown",
   "id": "raising-piece",
   "metadata": {},
   "source": [
    "> <img src=\"./operators.png\" width=\"60%\">"
   ]
  },
  {
   "cell_type": "markdown",
   "id": "structured-variance",
   "metadata": {},
   "source": [
    "### Upstream and Downstream Tasks"
   ]
  },
  {
   "cell_type": "markdown",
   "id": "resistant-launch",
   "metadata": {},
   "source": [
    "Let's finish up by discussing one last topic in airflow, and that's how to specify an order to our tasks.  So imagine that in addition to our hello task, we also have our `goodbye` task."
   ]
  },
  {
   "cell_type": "markdown",
   "id": "liquid-return",
   "metadata": {},
   "source": [
    "```python\n",
    "def goodbye():\n",
    "    return 'goodbye everyone'\n",
    "\n",
    "goodbye_task = PythonOperator(task_id='goodbye_task', \n",
    "                            python_callable=goodbye,\n",
    "                            dag=greeting_dag)\n",
    "\n",
    "```"
   ]
  },
  {
   "cell_type": "markdown",
   "id": "dental-taiwan",
   "metadata": {},
   "source": [
    "Well we specify that hello should come before goodbye with the following syntax."
   ]
  },
  {
   "cell_type": "markdown",
   "id": "fifty-mission",
   "metadata": {},
   "source": [
    "```python\n",
    "hello_task >> goodbye_task\n",
    "```"
   ]
  },
  {
   "cell_type": "markdown",
   "id": "hairy-ancient",
   "metadata": {},
   "source": [
    "> The double carrot indicates that the hello task must come before the goodbye task."
   ]
  },
  {
   "cell_type": "markdown",
   "id": "portable-reason",
   "metadata": {},
   "source": [
    "And finally, let's see bindmount our code into the environment and see our dag in action."
   ]
  },
  {
   "cell_type": "markdown",
   "id": "polyphonic-soundtrack",
   "metadata": {},
   "source": [
    "### Interacting with the DAG"
   ]
  },
  {
   "cell_type": "markdown",
   "id": "regulation-keyboard",
   "metadata": {},
   "source": [
    "Now that we have written our dag, let's boot it up and see it in our airflow web app."
   ]
  },
  {
   "cell_type": "markdown",
   "id": "revolutionary-victim",
   "metadata": {},
   "source": [
    "```bash\n",
    "docker run -p 8080:8080 -v \"$(pwd)\"/dags:/usr/local/airflow/dags puckel/docker-airflow webserver\n",
    "```"
   ]
  },
  {
   "cell_type": "markdown",
   "id": "distinguished-valuation",
   "metadata": {},
   "source": [
    "There's our `greeting_dag`."
   ]
  },
  {
   "cell_type": "markdown",
   "id": "suburban-baker",
   "metadata": {},
   "source": [
    "> <img src=\"./greet_dag.png\" width=\"60%\">"
   ]
  },
  {
   "cell_type": "markdown",
   "id": "accessible-council",
   "metadata": {},
   "source": [
    "> Note that the name we see matches the `dag_id` we specified when creating the dag: `DAG(dag_id = 'greeting_dag')`."
   ]
  },
  {
   "cell_type": "markdown",
   "id": "polish-virgin",
   "metadata": {},
   "source": [
    "And then when we click on the `greeting_dag` link, we can see our related tasks for that dag."
   ]
  },
  {
   "cell_type": "markdown",
   "id": "distinguished-humanitarian",
   "metadata": {},
   "source": [
    "<img src=\"./greeting-tasks.png\" width=\"40%\">"
   ]
  },
  {
   "cell_type": "markdown",
   "id": "proprietary-effectiveness",
   "metadata": {},
   "source": [
    "And then let's go back to the original page, and turn on our dag.  From there, if we click on the dag, and then click on graph view, we should eventually see something like the following:"
   ]
  },
  {
   "cell_type": "markdown",
   "id": "vital-council",
   "metadata": {},
   "source": [
    "<img src=\"./tasks-run.png\" width=\"30%\">"
   ]
  },
  {
   "cell_type": "markdown",
   "id": "subtle-reasoning",
   "metadata": {},
   "source": [
    "And from there, we can click on the `hello_task` and see the related logs."
   ]
  },
  {
   "cell_type": "markdown",
   "id": "inside-vertical",
   "metadata": {},
   "source": [
    "<img src=\"./hello_logs.png\" width=\"80%\">"
   ]
  },
  {
   "cell_type": "markdown",
   "id": "compliant-control",
   "metadata": {},
   "source": [
    "And click on the `goodbye_task` for the related logs."
   ]
  },
  {
   "cell_type": "markdown",
   "id": "thermal-religion",
   "metadata": {},
   "source": [
    "<img src=\"./goodbye_logs.png\" width=\"80%\">"
   ]
  },
  {
   "cell_type": "markdown",
   "id": "addressed-event",
   "metadata": {},
   "source": [
    "So we can see that we were able to have both tasks execute in order."
   ]
  },
  {
   "cell_type": "markdown",
   "id": "turned-function",
   "metadata": {},
   "source": [
    "### Summary"
   ]
  },
  {
   "cell_type": "markdown",
   "id": "warming-hamilton",
   "metadata": {},
   "source": [
    "In this lesson we learned about directed acyclic graphs and how to create them in airflow.  As we saw, a graph is a data structure with nodes and edges that represent the connections between those nodes.  A directed acyclic graph has each edge having a direction with no nodes being revisited.  It's ideal for our workflows in airflow. "
   ]
  },
  {
   "cell_type": "markdown",
   "id": "terminal-conditions",
   "metadata": {},
   "source": [
    "> <img src=\"./dag-etl.png\" width=\"60%\">"
   ]
  },
  {
   "cell_type": "markdown",
   "id": "liberal-dover",
   "metadata": {},
   "source": [
    "To create our dags in airflow, we first initialize a DAG, specifying an id, and a past start date."
   ]
  },
  {
   "cell_type": "markdown",
   "id": "hollow-overview",
   "metadata": {},
   "source": [
    "```python\n",
    "from airflow import DAG\n",
    "from datetime import datetime, timedelta\n",
    "\n",
    "greeting_dag = DAG(dag_id = 'hello_world', start_date=datetime.now() - timedelta(days = 1))\n",
    "```"
   ]
  },
  {
   "cell_type": "markdown",
   "id": "eligible-transsexual",
   "metadata": {},
   "source": [
    "And we then associate tasks with the DAG by instantiating an operator, and linking the dag with the `dag` argument."
   ]
  },
  {
   "cell_type": "markdown",
   "id": "natural-small",
   "metadata": {},
   "source": [
    "```python\n",
    "def goodbye():\n",
    "    return 'goodbye everyone'\n",
    "\n",
    "goodbye_task = PythonOperator(task_id='goodbye_task', \n",
    "                            python_callable=goodbye,\n",
    "                            dag=greeting_dag)\n",
    "```"
   ]
  },
  {
   "cell_type": "markdown",
   "id": "trained-montgomery",
   "metadata": {},
   "source": [
    "Finally, if there is more than one task, we can specify the order with the double carrot."
   ]
  },
  {
   "cell_type": "markdown",
   "id": "dressed-cache",
   "metadata": {},
   "source": [
    "```python\n",
    "hello_task >> goodbye_task\n",
    "```"
   ]
  }
 ],
 "metadata": {
  "kernelspec": {
   "display_name": "Python 3",
   "language": "python",
   "name": "python3"
  },
  "language_info": {
   "codemirror_mode": {
    "name": "ipython",
    "version": 3
   },
   "file_extension": ".py",
   "mimetype": "text/x-python",
   "name": "python",
   "nbconvert_exporter": "python",
   "pygments_lexer": "ipython3",
   "version": "3.8.6"
  }
 },
 "nbformat": 4,
 "nbformat_minor": 5
}
