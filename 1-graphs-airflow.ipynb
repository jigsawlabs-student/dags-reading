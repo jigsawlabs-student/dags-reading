{
 "cells": [
  {
   "cell_type": "markdown",
   "id": "computational-clearance",
   "metadata": {},
   "source": [
    "# Airflow DAGs  "
   ]
  },
  {
   "cell_type": "markdown",
   "id": "civic-cologne",
   "metadata": {},
   "source": [
    "### Introduction"
   ]
  },
  {
   "cell_type": "markdown",
   "id": "covered-invitation",
   "metadata": {},
   "source": [
    "In the last lesson, we were briefly introduced to directed acyclic graphs -- DAGs -- in airflow.  A DAG is how airflow conceptualizes a workflow - as a series of tasks.  In this lesson, we'll see specifically what we mean by a DAG, and move through the steps of creating a DAG in airflow."
   ]
  },
  {
   "cell_type": "markdown",
   "id": "composite-indonesia",
   "metadata": {},
   "source": [
    "### From Graphs to DAGs"
   ]
  },
  {
   "cell_type": "markdown",
   "id": "flexible-spare",
   "metadata": {},
   "source": [
    "Before talking about directed acyclic graphs, let's discuss graphs more generally.  Take a look at the map below that shows various airports, and flight routes between them."
   ]
  },
  {
   "cell_type": "markdown",
   "id": "productive-command",
   "metadata": {},
   "source": [
    "<img src=\"./airports-graph.png\" width=\"70%\">"
   ]
  },
  {
   "cell_type": "markdown",
   "id": "helpful-subcommittee",
   "metadata": {},
   "source": [
    "We see various airports listed: Los Angelos, Phoenix, Chicago, Atlanta.  And the lines between them represent the connections from one to another.  This is an example of a graph."
   ]
  },
  {
   "cell_type": "markdown",
   "id": "eight-bacon",
   "metadata": {},
   "source": [
    "> A graph is a structure amounting to a set of **nodes** in which some pairs of the nodes are in some sense \"related\". [From Wikipedia Graphs entry](https://en.wikipedia.org/wiki/Graph_(discrete_mathematics))"
   ]
  },
  {
   "cell_type": "markdown",
   "id": "convinced-portfolio",
   "metadata": {},
   "source": [
    "Ok, so above, the airports are the nodes and the different routes are the connections between the nodes.  In graph speak, we'll call each connection between a pair of nodes an **edge**.  \n",
    "\n",
    "\n",
    "Now our graph above is a **cyclic** graph.  This is because when we visit a node like Los Angeles, and then move to the node of Chicago, there is a path back to the Los Angeles node -- we can simply turn around go back to Los Angeles.\n",
    "\n",
    "> **Cycle**: With graphs, a cycle exists if there is a path to revisit one of the vertices."
   ]
  },
  {
   "cell_type": "markdown",
   "id": "liquid-strand",
   "metadata": {},
   "source": [
    "Now let's see a different graph."
   ]
  },
  {
   "cell_type": "markdown",
   "id": "comparable-herald",
   "metadata": {},
   "source": [
    "> <img src=\"./red-blue-paint.png\" width=\"60%\">"
   ]
  },
  {
   "cell_type": "markdown",
   "id": "handy-march",
   "metadata": {},
   "source": [
    "Note that unlike our airport graph, this time, once we visit a node, there is no going back.  This is indicated by the arrows: there is a path from getting the red paint bucket to mixing the paint, but we cannot go from mixing the paint back to the red paint bucket.\n",
    "\n",
    "Because our edges have a specified direction, and because once we visit a node, we cannot revisit that same node -- we call this graph a **directed acyclic graph**.\n",
    "\n",
    "> A directed acyclic graph is a graph where each of the edges have a direction and none of the nodes can be repeated.\n",
    "\n",
    "This is another example of a directed acyclic graph:"
   ]
  },
  {
   "cell_type": "markdown",
   "id": "infectious-society",
   "metadata": {},
   "source": [
    "> <img src=\"./dag-etl.png\" width=\"60%\">"
   ]
  },
  {
   "cell_type": "markdown",
   "id": "signal-obligation",
   "metadata": {},
   "source": [
    "So once again, each of the edges has a direction, and there exists no cycle between our nodes.  Now that we understand what DAG is conceptually, it perhaps makes sense that this is the structure airflow chooses to describe a workflow.  \n",
    "\n",
    "With a workflow, our steps have an order to them, and we do not want our graph to cycle through nodes endlessly.  \n",
    "\n",
    "Ok, now let's create a DAG in airflow."
   ]
  },
  {
   "cell_type": "markdown",
   "id": "healthy-underwear",
   "metadata": {},
   "source": [
    "### Creating a DAG"
   ]
  },
  {
   "cell_type": "markdown",
   "id": "buried-canadian",
   "metadata": {},
   "source": [
    "To create a DAG in airflow, we to create an instance of a DAG and then one or more tasks that we associate with the DAG.  Let's get to it."
   ]
  },
  {
   "cell_type": "markdown",
   "id": "informative-publication",
   "metadata": {},
   "source": [
    "First we'll create our dag."
   ]
  },
  {
   "cell_type": "markdown",
   "id": "mineral-imaging",
   "metadata": {},
   "source": [
    "```python\n",
    "from airflow import DAG\n",
    "from datetime import datetime, timedelta\n",
    "\n",
    "greeting_dag = DAG(dag_id = 'hello_world', start_date=datetime.now() - timedelta(days = 1))\n",
    "```"
   ]
  },
  {
   "cell_type": "markdown",
   "id": "decent-turner",
   "metadata": {},
   "source": [
    "Notice that in creating our dag we first specify a `dag_id`.  The `dag_id` cannot have any spaces in it.  We also specify a `start_date`, when the dag should first be run.  \n",
    "\n",
    "> We want our `start_date` to be at least one day in the past, because a dag begins running at the end of the first schedule interval.  And by default, the schedule interval is one day.  So if we want to see the dag run immediately, we set the start date to one day earlier than the current time.\n"
   ]
  },
  {
   "cell_type": "markdown",
   "id": "danish-canberra",
   "metadata": {},
   "source": [
    "Ok, now the DAG represents our entire workflow.  But our DAG does not *do* anything unless it contains some tasks.  So below, we'll create a task that executes some Python, and then we'll associate this task with our DAG."
   ]
  },
  {
   "cell_type": "markdown",
   "id": "binding-prayer",
   "metadata": {},
   "source": [
    "```python\n",
    "from airflow.operators.python_operator import PythonOperator\n",
    "\n",
    "def hello():\n",
    "    return 'Hello world!'\n",
    "\n",
    "hello_task = PythonOperator(task_id='hello_task', \n",
    "                            python_callable=hello,\n",
    "                            dag=greeting_dag)\n",
    "```"
   ]
  },
  {
   "cell_type": "markdown",
   "id": "satisfied-circus",
   "metadata": {},
   "source": [
    "Ok, focusing on the last statement where we call our `PythonOperator`, we first provide an id, this time a `task_id`.  Then we provide a `python_callable`, where we specify what this task does.  Here, it executes the `hello` function.  Finally, we associate this task with the `dag` we defined from earlier.   \n",
    "\n",
    "> So we can say that a task belongs to a dag, and a dag has many tasks. "
   ]
  },
  {
   "cell_type": "markdown",
   "id": "binding-increase",
   "metadata": {},
   "source": [
    "### Some Information on Operators"
   ]
  },
  {
   "cell_type": "markdown",
   "id": "optimum-compiler",
   "metadata": {},
   "source": [
    "One thing that may be confusing about the above code is that we seem to be working with operators to create a task."
   ]
  },
  {
   "cell_type": "markdown",
   "id": "duplicate-rebound",
   "metadata": {},
   "source": [
    "```python\n",
    "from airflow.operators.python_operator import PythonOperator\n",
    "hello_task = PythonOperator(task_id='hello_task', \n",
    "                            python_callable=hello,\n",
    "                            dag=greeting_dag)\n",
    "```"
   ]
  },
  {
   "cell_type": "markdown",
   "id": "relative-vault",
   "metadata": {},
   "source": [
    "What's an operator?"
   ]
  },
  {
   "cell_type": "markdown",
   "id": "accessory-africa",
   "metadata": {},
   "source": [
    "> Operators allow for generation of certain types of tasks that become nodes in the DAG when instantiated. [Airflow Documentation](https://airflow.apache.org/docs/apache-airflow/stable/python-api-ref.html)"
   ]
  },
  {
   "cell_type": "markdown",
   "id": "quiet-price",
   "metadata": {},
   "source": [
    "So the Operator is the class, and an instance of an operator is a task.  These tasks are the nodes in our DAG.  And note that Airflow comes out of the box with different kinds of operators that allows for the creation of different kinds of tasks."
   ]
  },
  {
   "cell_type": "markdown",
   "id": "functional-place",
   "metadata": {},
   "source": [
    "For example, here are just some of the operators available to us."
   ]
  },
  {
   "cell_type": "markdown",
   "id": "nuclear-electricity",
   "metadata": {},
   "source": [
    "> <img src=\"./operators.png\" width=\"60%\">"
   ]
  },
  {
   "cell_type": "markdown",
   "id": "diverse-wrapping",
   "metadata": {},
   "source": [
    "### Upstream and Downstream Tasks"
   ]
  },
  {
   "cell_type": "markdown",
   "id": "significant-signal",
   "metadata": {},
   "source": [
    "Let's finish up by discussing one last topic in airflow, and that's how to place our tasks in a specific sequence.  So imagine that in addition to our hello task, we also have our `goodbye` task."
   ]
  },
  {
   "cell_type": "markdown",
   "id": "buried-ballot",
   "metadata": {},
   "source": [
    "> So once again, we create a task, this time that calls the `goodbye` function."
   ]
  },
  {
   "cell_type": "markdown",
   "id": "rubber-venezuela",
   "metadata": {},
   "source": [
    "```python\n",
    "def goodbye():\n",
    "    return 'goodbye everyone'\n",
    "\n",
    "goodbye_task = PythonOperator(task_id='goodbye_task', \n",
    "                            python_callable=goodbye,\n",
    "                            dag=greeting_dag)\n",
    "\n",
    "```"
   ]
  },
  {
   "cell_type": "markdown",
   "id": "contemporary-reference",
   "metadata": {},
   "source": [
    "Well we specify that the `hello_task` should come before the `goodbye_task` with the following syntax."
   ]
  },
  {
   "cell_type": "markdown",
   "id": "second-reliance",
   "metadata": {},
   "source": [
    "```python\n",
    "hello_task >> goodbye_task\n",
    "```"
   ]
  },
  {
   "cell_type": "markdown",
   "id": "frozen-phase",
   "metadata": {},
   "source": [
    "> The double carrot indicates that the hello task must come before the goodbye task."
   ]
  },
  {
   "cell_type": "markdown",
   "id": "earlier-contribution",
   "metadata": {},
   "source": [
    "### Interacting with the DAG"
   ]
  },
  {
   "cell_type": "markdown",
   "id": "contemporary-envelope",
   "metadata": {},
   "source": [
    "Now that we have written our dag, let's boot it up and see it in our airflow web app."
   ]
  },
  {
   "cell_type": "markdown",
   "id": "hidden-somalia",
   "metadata": {},
   "source": [
    "```bash\n",
    "docker run -p 8080:8080 -v \"$(pwd)\"/dags:/usr/local/airflow/dags puckel/docker-airflow webserver\n",
    "```"
   ]
  },
  {
   "cell_type": "markdown",
   "id": "future-malaysia",
   "metadata": {},
   "source": [
    "There's our `greeting_dag`."
   ]
  },
  {
   "cell_type": "markdown",
   "id": "turned-network",
   "metadata": {},
   "source": [
    "> <img src=\"./greet_dag.png\" width=\"60%\">"
   ]
  },
  {
   "cell_type": "markdown",
   "id": "cosmetic-university",
   "metadata": {},
   "source": [
    "> Note that the name we see matches the `dag_id` we specified when creating the dag: `DAG(dag_id = 'greeting_dag')`."
   ]
  },
  {
   "cell_type": "markdown",
   "id": "looking-desperate",
   "metadata": {},
   "source": [
    "And then when we click on the `greeting_dag` link, we can see our related tasks for that dag."
   ]
  },
  {
   "cell_type": "markdown",
   "id": "figured-trauma",
   "metadata": {},
   "source": [
    "<img src=\"./greeting-tasks.png\" width=\"40%\">"
   ]
  },
  {
   "cell_type": "markdown",
   "id": "cardiac-israel",
   "metadata": {},
   "source": [
    "And then let's go back to the original page, and turn on our dag.  From there, if we click on the dag, and then click on `graph view`, we should eventually see something like the following:"
   ]
  },
  {
   "cell_type": "markdown",
   "id": "smoking-waste",
   "metadata": {},
   "source": [
    "<img src=\"./tasks-run.png\" width=\"30%\">"
   ]
  },
  {
   "cell_type": "markdown",
   "id": "neural-jacob",
   "metadata": {},
   "source": [
    "> The dark green box indicates that each of the tasks has successfully run."
   ]
  },
  {
   "cell_type": "markdown",
   "id": "direct-backup",
   "metadata": {},
   "source": [
    "So in both our tree view, and our graph view, we see that our `hello_task` precedes the `goodbye_task`."
   ]
  },
  {
   "cell_type": "markdown",
   "id": "actual-murray",
   "metadata": {},
   "source": [
    "And from there, we can click on the `hello_task` and see the related logs."
   ]
  },
  {
   "cell_type": "markdown",
   "id": "interesting-monkey",
   "metadata": {},
   "source": [
    "<img src=\"./hello_logs.png\" width=\"80%\">"
   ]
  },
  {
   "cell_type": "markdown",
   "id": "athletic-courage",
   "metadata": {},
   "source": [
    "And click on the `goodbye_task` for the related logs."
   ]
  },
  {
   "cell_type": "markdown",
   "id": "aboriginal-imagination",
   "metadata": {},
   "source": [
    "<img src=\"./goodbye_logs.png\" width=\"80%\">"
   ]
  },
  {
   "cell_type": "markdown",
   "id": "suited-williams",
   "metadata": {},
   "source": [
    "So we can see that we were able to have both tasks execute in order."
   ]
  },
  {
   "cell_type": "markdown",
   "id": "animal-lemon",
   "metadata": {},
   "source": [
    "### Summary"
   ]
  },
  {
   "cell_type": "markdown",
   "id": "iraqi-output",
   "metadata": {},
   "source": [
    "In this lesson we learned about directed acyclic graphs and how to create them in airflow.  As we saw, a graph is a data structure with nodes and edges that represent the connections between those nodes.  A directed acyclic graph has each edge having a direction with no nodes being revisited.  It's ideal for our workflows in airflow. "
   ]
  },
  {
   "cell_type": "markdown",
   "id": "centered-pencil",
   "metadata": {},
   "source": [
    "> <img src=\"./dag-etl.png\" width=\"60%\">"
   ]
  },
  {
   "cell_type": "markdown",
   "id": "corporate-separate",
   "metadata": {},
   "source": [
    "To create our dags in airflow, we first initialize a DAG, specifying an id, and a past start date."
   ]
  },
  {
   "cell_type": "markdown",
   "id": "executive-algeria",
   "metadata": {},
   "source": [
    "```python\n",
    "from airflow import DAG\n",
    "from datetime import datetime, timedelta\n",
    "\n",
    "greeting_dag = DAG(dag_id = 'hello_world', start_date=datetime.now() - timedelta(days = 1))\n",
    "```"
   ]
  },
  {
   "cell_type": "markdown",
   "id": "japanese-shirt",
   "metadata": {},
   "source": [
    "And we then associate tasks with the DAG by instantiating an operator, and linking the dag with the `dag` argument."
   ]
  },
  {
   "cell_type": "markdown",
   "id": "amazing-borough",
   "metadata": {},
   "source": [
    "```python\n",
    "def goodbye():\n",
    "    return 'goodbye everyone'\n",
    "\n",
    "goodbye_task = PythonOperator(task_id='goodbye_task', \n",
    "                            python_callable=goodbye,\n",
    "                            dag=greeting_dag)\n",
    "```"
   ]
  },
  {
   "cell_type": "markdown",
   "id": "sound-horse",
   "metadata": {},
   "source": [
    "Finally, if there is more than one task, we can specify the order with the double carrot."
   ]
  },
  {
   "cell_type": "markdown",
   "id": "reverse-mention",
   "metadata": {},
   "source": [
    "```python\n",
    "hello_task >> goodbye_task\n",
    "```"
   ]
  }
 ],
 "metadata": {
  "kernelspec": {
   "display_name": "Python 3",
   "language": "python",
   "name": "python3"
  },
  "language_info": {
   "codemirror_mode": {
    "name": "ipython",
    "version": 3
   },
   "file_extension": ".py",
   "mimetype": "text/x-python",
   "name": "python",
   "nbconvert_exporter": "python",
   "pygments_lexer": "ipython3",
   "version": "3.8.6"
  }
 },
 "nbformat": 4,
 "nbformat_minor": 5
}
