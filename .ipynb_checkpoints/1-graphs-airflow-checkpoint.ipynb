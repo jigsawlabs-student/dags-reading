{
 "cells": [
  {
   "cell_type": "markdown",
   "id": "national-circular",
   "metadata": {},
   "source": [
    "# Airflow DAGs  "
   ]
  },
  {
   "cell_type": "markdown",
   "id": "satisfied-unemployment",
   "metadata": {},
   "source": [
    "### Introduction"
   ]
  },
  {
   "cell_type": "markdown",
   "id": "robust-pipeline",
   "metadata": {},
   "source": [
    "In the last lesson, we were briefly introduced to directed acyclic graphs -- that is, DAGs in airflow.  A DAG is how airflow conceptualizes a workflow - as a series of tasks.  In this lesson, we'll see specifically what we mean by a DAG, and move through the steps of creating a DAG in airflow."
   ]
  },
  {
   "cell_type": "markdown",
   "id": "literary-accounting",
   "metadata": {},
   "source": [
    "### From Graphs to DAGs"
   ]
  },
  {
   "cell_type": "markdown",
   "id": "fuzzy-accessory",
   "metadata": {},
   "source": [
    "Before talking about directed acyclic graphs, let's discuss graphs more generally.  Take a look at the map below that shows various airports, and flight routes between them."
   ]
  },
  {
   "cell_type": "markdown",
   "id": "sustainable-newfoundland",
   "metadata": {},
   "source": [
    "<img src=\"./airports-graph.png\" width=\"70%\">"
   ]
  },
  {
   "cell_type": "markdown",
   "id": "hollow-monte",
   "metadata": {},
   "source": [
    "We see various airports listed: Los Angelos, Phoenix, Chicago, Atlanta.  And the lines between them represent the connections from one to another.  This is an example of a graph."
   ]
  },
  {
   "cell_type": "markdown",
   "id": "harmful-reward",
   "metadata": {},
   "source": [
    "> A graph is a structure amounting to a set of **nodes** in which some pairs of the nodes are in some sense \"related\". [Derived from Wikipedia Graphs](https://en.wikipedia.org/wiki/Graph_(discrete_mathematics))"
   ]
  },
  {
   "cell_type": "markdown",
   "id": "promising-florist",
   "metadata": {},
   "source": [
    "Ok, so above the airports are the nodes with the different routes being our connections.  In graph speak, we'll call each connection between a pair of nodes an **edges**.  \n",
    "\n",
    "\n",
    "Now when talking about our graph above, we would say that the graph is **cyclic**.  This is because when we visit a node like Los Angeles, and go to connected node of Chicago, there is a path back to the Los Angeles node -- we can simply turn around go back to Los Angeles.\n",
    "\n",
    "> **Cycle** With graphs, a cycle exists if there is a path to revisit one of the vertices."
   ]
  },
  {
   "cell_type": "markdown",
   "id": "designed-piano",
   "metadata": {},
   "source": [
    "Now let's see a different graph."
   ]
  },
  {
   "cell_type": "markdown",
   "id": "funky-delay",
   "metadata": {},
   "source": [
    "> <img src=\"./red-blue-paint.png\" width=\"60%\">"
   ]
  },
  {
   "cell_type": "markdown",
   "id": "intelligent-kenya",
   "metadata": {},
   "source": [
    "Note that unlike our airport graph, this time, once we visit a node, there is no going back.  This is indicated by the arrows: there is a path from getting the red paint bucket to mixing the paint, but we cannot go from mixing the paint back to the red paint bucket.\n",
    "\n",
    "Because our edges have a specified direction, and because once we visit a node, we cannot revisit that same node -- we call this graph a **directed acyclic graph**.\n",
    "\n",
    "> A directed acyclic graph is a graph where each of the edges have a direction and none of the nodes can be repeated.\n",
    "\n",
    "This is another example of a directed acyclic graph:"
   ]
  },
  {
   "cell_type": "markdown",
   "id": "hydraulic-anchor",
   "metadata": {},
   "source": [
    "> <img src=\"./dag-etl.png\" width=\"60%\">"
   ]
  },
  {
   "cell_type": "markdown",
   "id": "improved-percentage",
   "metadata": {},
   "source": [
    "So once again, each of the edges has a direction, and there exists no cycle between our nodes.  Now that we understand what DAG is conceptually it perhaps makes sense, that this is the structure airflow chooses to describe a workflow.  \n",
    "\n",
    "With a workflow, our steps have an order to them, and we do not want our graph to cycle through nodes endlessly.  \n",
    "\n",
    "Ok, now let's create a DAG in airflow."
   ]
  },
  {
   "cell_type": "markdown",
   "id": "cloudy-processing",
   "metadata": {},
   "source": [
    "### Creating a DAG"
   ]
  },
  {
   "cell_type": "markdown",
   "id": "noted-hurricane",
   "metadata": {},
   "source": [
    "To create a DAG in airflow, we to create an instance of a DAG and then one or more tasks that we associate with the DAG.  Let's get to it."
   ]
  },
  {
   "cell_type": "markdown",
   "id": "olive-roberts",
   "metadata": {},
   "source": [
    "First we'll create our dag."
   ]
  },
  {
   "cell_type": "markdown",
   "id": "imposed-personality",
   "metadata": {},
   "source": [
    "```python\n",
    "from airflow import DAG\n",
    "from datetime import datetime, timedelta\n",
    "\n",
    "greeting_dag = DAG(dag_id = 'hello_world', start_date=datetime.now() - timedelta(days = 1))\n",
    "```"
   ]
  },
  {
   "cell_type": "markdown",
   "id": "worldwide-moderator",
   "metadata": {},
   "source": [
    "Notice that in creating our dag we first specify a `dag_id`.  The `dag_id` cannot have any spaces in it.  We also specify a `start_date`, when the dag should first be run.  \n",
    "\n",
    "> We want our `start_date` to be at least one day in the past, because a dag begins running at the end of the first schedule interval.  And by default, the schedule interval is one day.  So if we want to see the dag run immediately, we set the start date to one day earlier than the current time.\n"
   ]
  },
  {
   "cell_type": "markdown",
   "id": "contrary-transcription",
   "metadata": {},
   "source": [
    "Ok, now the DAG represents our entire workflow.  But our DAG does not *do* anything unless it contains some tasks.  So below, we'll create a task that executes some Python, and then we'll associate this task with our DAG."
   ]
  },
  {
   "cell_type": "markdown",
   "id": "serious-asthma",
   "metadata": {},
   "source": [
    "```python\n",
    "from airflow.operators.python_operator import PythonOperator\n",
    "\n",
    "def hello():\n",
    "    return 'Hello world!'\n",
    "\n",
    "hello_task = PythonOperator(task_id='hello_task', \n",
    "                            python_callable=hello,\n",
    "                            dag=greeting_dag)\n",
    "```"
   ]
  },
  {
   "cell_type": "markdown",
   "id": "renewable-appendix",
   "metadata": {},
   "source": [
    "Ok, focusing on the last statement where we call our `PythonOperator`, notice that just like our DAG, the first step is to provide an id, this time a `task_id`.  Then with `python_callable`, we specify what this task does, which is execute the `hello` function.  And finally we associate this task with our `greeting_dag` from earlier.   \n",
    "\n",
    "> So we can say that a task belongs to a dag, and a dag has many tasks. "
   ]
  },
  {
   "cell_type": "markdown",
   "id": "official-edward",
   "metadata": {},
   "source": [
    "### Some Information on Operators"
   ]
  },
  {
   "cell_type": "markdown",
   "id": "special-peoples",
   "metadata": {},
   "source": [
    "One thing that may be confusing about the above code is that we seem to be working with operators to create a task."
   ]
  },
  {
   "cell_type": "markdown",
   "id": "abandoned-cinema",
   "metadata": {},
   "source": [
    "```python\n",
    "from airflow.operators.python_operator import PythonOperator\n",
    "hello_task = PythonOperator(task_id='hello_task', \n",
    "                            python_callable=hello,\n",
    "                            dag=greeting_dag)\n",
    "```"
   ]
  },
  {
   "cell_type": "markdown",
   "id": "passive-trinidad",
   "metadata": {},
   "source": [
    "What's an operator?"
   ]
  },
  {
   "cell_type": "markdown",
   "id": "younger-heath",
   "metadata": {},
   "source": [
    "> Operators allow for generation of certain types of tasks that become nodes in the DAG when instantiated. [Airflow Documentation](https://airflow.apache.org/docs/apache-airflow/stable/python-api-ref.html)"
   ]
  },
  {
   "cell_type": "markdown",
   "id": "suspended-screw",
   "metadata": {},
   "source": [
    "So the Operator is the class, and an instance of an operator is a task.  These tasks are the nodes in our DAG.  And note that Airflow comes out of the box with different kinds of operators that allows for the creation of different kinds of tasks."
   ]
  },
  {
   "cell_type": "markdown",
   "id": "casual-welcome",
   "metadata": {},
   "source": [
    "For example, here are just some of the operators available to us."
   ]
  },
  {
   "cell_type": "markdown",
   "id": "regulated-shoot",
   "metadata": {},
   "source": [
    "> <img src=\"./operators.png\" width=\"60%\">"
   ]
  },
  {
   "cell_type": "markdown",
   "id": "appointed-bernard",
   "metadata": {},
   "source": [
    "### Upstream and Downstream Tasks"
   ]
  },
  {
   "cell_type": "markdown",
   "id": "sporting-optics",
   "metadata": {},
   "source": [
    "Let's finish up by discussing one last topic in airflow, and that's how to place our tasks in a specific sequence.  So imagine that in addition to our hello task, we also have our `goodbye` task."
   ]
  },
  {
   "cell_type": "markdown",
   "id": "beneficial-freeware",
   "metadata": {},
   "source": [
    "```python\n",
    "def goodbye():\n",
    "    return 'goodbye everyone'\n",
    "\n",
    "goodbye_task = PythonOperator(task_id='goodbye_task', \n",
    "                            python_callable=goodbye,\n",
    "                            dag=greeting_dag)\n",
    "\n",
    "```"
   ]
  },
  {
   "cell_type": "markdown",
   "id": "respective-gather",
   "metadata": {},
   "source": [
    "Well we specify that hello should come before goodbye with the following syntax."
   ]
  },
  {
   "cell_type": "markdown",
   "id": "center-entity",
   "metadata": {},
   "source": [
    "```python\n",
    "hello_task >> goodbye_task\n",
    "```"
   ]
  },
  {
   "cell_type": "markdown",
   "id": "affecting-gentleman",
   "metadata": {},
   "source": [
    "> The double carrot indicates that the hello task must come before the goodbye task."
   ]
  },
  {
   "cell_type": "markdown",
   "id": "gentle-words",
   "metadata": {},
   "source": [
    "And finally, let's see bindmount our code into the environment and see our dag in action."
   ]
  },
  {
   "cell_type": "markdown",
   "id": "published-morocco",
   "metadata": {},
   "source": [
    "### Interacting with the DAG"
   ]
  },
  {
   "cell_type": "markdown",
   "id": "threaded-ballet",
   "metadata": {},
   "source": [
    "Now that we have written our dag, let's boot it up and see it in our airflow web app."
   ]
  },
  {
   "cell_type": "markdown",
   "id": "equivalent-handling",
   "metadata": {},
   "source": [
    "```bash\n",
    "docker run -p 8080:8080 -v \"$(pwd)\"/dags:/usr/local/airflow/dags puckel/docker-airflow webserver\n",
    "```"
   ]
  },
  {
   "cell_type": "markdown",
   "id": "narrative-still",
   "metadata": {},
   "source": [
    "There's our `greeting_dag`."
   ]
  },
  {
   "cell_type": "markdown",
   "id": "average-wireless",
   "metadata": {},
   "source": [
    "> <img src=\"./greet_dag.png\" width=\"60%\">"
   ]
  },
  {
   "cell_type": "markdown",
   "id": "missing-solomon",
   "metadata": {},
   "source": [
    "> Note that the name we see matches the `dag_id` we specified when creating the dag: `DAG(dag_id = 'greeting_dag')`."
   ]
  },
  {
   "cell_type": "markdown",
   "id": "instant-socket",
   "metadata": {},
   "source": [
    "And then when we click on the `greeting_dag` link, we can see our related tasks for that dag."
   ]
  },
  {
   "cell_type": "markdown",
   "id": "median-politics",
   "metadata": {},
   "source": [
    "<img src=\"./greeting-tasks.png\" width=\"40%\">"
   ]
  },
  {
   "cell_type": "markdown",
   "id": "potential-specification",
   "metadata": {},
   "source": [
    "And then let's go back to the original page, and turn on our dag.  From there, if we click on the dag, and then click on `graph view`, we should eventually see something like the following:"
   ]
  },
  {
   "cell_type": "markdown",
   "id": "funded-allah",
   "metadata": {},
   "source": [
    "<img src=\"./tasks-run.png\" width=\"30%\">"
   ]
  },
  {
   "cell_type": "markdown",
   "id": "automotive-jersey",
   "metadata": {},
   "source": [
    "> The dark green box indicates that each of the tasks has successfully run."
   ]
  },
  {
   "cell_type": "markdown",
   "id": "answering-concentrate",
   "metadata": {},
   "source": [
    "And from there, we can click on the `hello_task` and see the related logs."
   ]
  },
  {
   "cell_type": "markdown",
   "id": "hydraulic-argument",
   "metadata": {},
   "source": [
    "<img src=\"./hello_logs.png\" width=\"80%\">"
   ]
  },
  {
   "cell_type": "markdown",
   "id": "ready-demonstration",
   "metadata": {},
   "source": [
    "And click on the `goodbye_task` for the related logs."
   ]
  },
  {
   "cell_type": "markdown",
   "id": "centered-vacation",
   "metadata": {},
   "source": [
    "<img src=\"./goodbye_logs.png\" width=\"80%\">"
   ]
  },
  {
   "cell_type": "markdown",
   "id": "interesting-algebra",
   "metadata": {},
   "source": [
    "So we can see that we were able to have both tasks execute in order."
   ]
  },
  {
   "cell_type": "markdown",
   "id": "wrapped-connection",
   "metadata": {},
   "source": [
    "### Summary"
   ]
  },
  {
   "cell_type": "markdown",
   "id": "sufficient-drilling",
   "metadata": {},
   "source": [
    "In this lesson we learned about directed acyclic graphs and how to create them in airflow.  As we saw, a graph is a data structure with nodes and edges that represent the connections between those nodes.  A directed acyclic graph has each edge having a direction with no nodes being revisited.  It's ideal for our workflows in airflow. "
   ]
  },
  {
   "cell_type": "markdown",
   "id": "aware-valve",
   "metadata": {},
   "source": [
    "> <img src=\"./dag-etl.png\" width=\"60%\">"
   ]
  },
  {
   "cell_type": "markdown",
   "id": "reasonable-julian",
   "metadata": {},
   "source": [
    "To create our dags in airflow, we first initialize a DAG, specifying an id, and a past start date."
   ]
  },
  {
   "cell_type": "markdown",
   "id": "narrative-channels",
   "metadata": {},
   "source": [
    "```python\n",
    "from airflow import DAG\n",
    "from datetime import datetime, timedelta\n",
    "\n",
    "greeting_dag = DAG(dag_id = 'hello_world', start_date=datetime.now() - timedelta(days = 1))\n",
    "```"
   ]
  },
  {
   "cell_type": "markdown",
   "id": "appointed-amino",
   "metadata": {},
   "source": [
    "And we then associate tasks with the DAG by instantiating an operator, and linking the dag with the `dag` argument."
   ]
  },
  {
   "cell_type": "markdown",
   "id": "pleasant-assembly",
   "metadata": {},
   "source": [
    "```python\n",
    "def goodbye():\n",
    "    return 'goodbye everyone'\n",
    "\n",
    "goodbye_task = PythonOperator(task_id='goodbye_task', \n",
    "                            python_callable=goodbye,\n",
    "                            dag=greeting_dag)\n",
    "```"
   ]
  },
  {
   "cell_type": "markdown",
   "id": "fancy-distributor",
   "metadata": {},
   "source": [
    "Finally, if there is more than one task, we can specify the order with the double carrot."
   ]
  },
  {
   "cell_type": "markdown",
   "id": "whole-assignment",
   "metadata": {},
   "source": [
    "```python\n",
    "hello_task >> goodbye_task\n",
    "```"
   ]
  }
 ],
 "metadata": {
  "kernelspec": {
   "display_name": "Python 3",
   "language": "python",
   "name": "python3"
  },
  "language_info": {
   "codemirror_mode": {
    "name": "ipython",
    "version": 3
   },
   "file_extension": ".py",
   "mimetype": "text/x-python",
   "name": "python",
   "nbconvert_exporter": "python",
   "pygments_lexer": "ipython3",
   "version": "3.8.6"
  }
 },
 "nbformat": 4,
 "nbformat_minor": 5
}
